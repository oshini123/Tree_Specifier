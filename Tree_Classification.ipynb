{
  "nbformat": 4,
  "nbformat_minor": 0,
  "metadata": {
    "colab": {
      "provenance": [],
      "gpuType": "T4"
    },
    "kernelspec": {
      "name": "python3",
      "display_name": "Python 3"
    },
    "language_info": {
      "name": "python"
    },
    "accelerator": "GPU"
  },
  "cells": [
    {
      "cell_type": "code",
      "execution_count": 1,
      "metadata": {
        "colab": {
          "base_uri": "https://localhost:8080/"
        },
        "id": "eve-4GCauO56",
        "outputId": "f90d7b9d-db53-4d02-ebea-fe5637c04173"
      },
      "outputs": [
        {
          "output_type": "stream",
          "name": "stdout",
          "text": [
            "Drive already mounted at /content/drive; to attempt to forcibly remount, call drive.mount(\"/content/drive\", force_remount=True).\n"
          ]
        }
      ],
      "source": [
        "from google.colab import drive\n",
        "drive.mount('/content/drive')"
      ]
    },
    {
      "cell_type": "code",
      "source": [
        "import pandas as pd\n",
        "import numpy as np\n",
        "from sklearn.model_selection import train_test_split\n",
        "from tensorflow.keras.models import Sequential\n",
        "from tensorflow.keras.layers import Dense\n"
      ],
      "metadata": {
        "id": "ZCDW1QG7wYQ3"
      },
      "execution_count": 2,
      "outputs": []
    },
    {
      "cell_type": "code",
      "source": [
        "#Load The Data\n",
        "data = pd.read_csv('/content/drive/MyDrive/IISProject/Dataset_tree.csv')"
      ],
      "metadata": {
        "id": "xQI7pGKZ1xJ-"
      },
      "execution_count": 3,
      "outputs": []
    },
    {
      "cell_type": "code",
      "source": [
        "# Extract features and target variable\n",
        "x = data.drop('class', axis=1)\n",
        "y = data['class']"
      ],
      "metadata": {
        "id": "ckVt410Iu33n"
      },
      "execution_count": 9,
      "outputs": []
    },
    {
      "cell_type": "code",
      "source": [
        "# Convert to numpy arrays\n",
        "x = np.array(x)\n",
        "y = np.array(y)"
      ],
      "metadata": {
        "id": "Smm0rXTlwGF0"
      },
      "execution_count": 10,
      "outputs": []
    },
    {
      "cell_type": "code",
      "source": [
        "# Split the data into training and testing sets\n",
        "x_train, x_test, y_train, y_test = train_test_split(x, y, test_size=0.2, random_state=42)"
      ],
      "metadata": {
        "id": "X-7Q9-w1wWR2"
      },
      "execution_count": 11,
      "outputs": []
    },
    {
      "cell_type": "code",
      "source": [
        "# Define the model architecture\n",
        "model = Sequential([\n",
        "    Dense(16, activation='relu', input_shape=(3,)),  # Input layer with 16 neurons\n",
        "    Dense(8, activation='relu'),  # Hidden layer with 8 neurons\n",
        "    Dense(3, activation='softmax')  # Output layer with 3 neurons for 3 classes\n",
        "])"
      ],
      "metadata": {
        "id": "muXwMJGh1uhc"
      },
      "execution_count": 31,
      "outputs": []
    },
    {
      "cell_type": "code",
      "source": [
        "# Compile the model\n",
        "model.compile(optimizer='adam',\n",
        "              loss='sparse_categorical_crossentropy',\n",
        "              metrics=['accuracy'])\n"
      ],
      "metadata": {
        "id": "ld7hQiRM8OjA"
      },
      "execution_count": 32,
      "outputs": []
    },
    {
      "cell_type": "code",
      "source": [
        "# Train the model\n",
        "model.fit(x_train, y_train, epochs=100, batch_size=5, validation_data=(x_test, y_test))\n"
      ],
      "metadata": {
        "colab": {
          "base_uri": "https://localhost:8080/"
        },
        "id": "6NfGLUx-8VWr",
        "outputId": "6f0581a1-604e-4e78-d373-7cd931182810"
      },
      "execution_count": 36,
      "outputs": [
        {
          "output_type": "stream",
          "name": "stdout",
          "text": [
            "Epoch 1/100\n",
            "17/17 [==============================] - 0s 10ms/step - loss: 0.3590 - accuracy: 0.8214 - val_loss: 0.4228 - val_accuracy: 0.7143\n",
            "Epoch 2/100\n",
            "17/17 [==============================] - 0s 7ms/step - loss: 0.3627 - accuracy: 0.8333 - val_loss: 0.3856 - val_accuracy: 0.8095\n",
            "Epoch 3/100\n",
            "17/17 [==============================] - 0s 7ms/step - loss: 0.3810 - accuracy: 0.8214 - val_loss: 0.4065 - val_accuracy: 0.7143\n",
            "Epoch 4/100\n",
            "17/17 [==============================] - 0s 11ms/step - loss: 0.3462 - accuracy: 0.8571 - val_loss: 0.3849 - val_accuracy: 0.7619\n",
            "Epoch 5/100\n",
            "17/17 [==============================] - 0s 8ms/step - loss: 0.3534 - accuracy: 0.8095 - val_loss: 0.4130 - val_accuracy: 0.7619\n",
            "Epoch 6/100\n",
            "17/17 [==============================] - 0s 7ms/step - loss: 0.3641 - accuracy: 0.8214 - val_loss: 0.4422 - val_accuracy: 0.6667\n",
            "Epoch 7/100\n",
            "17/17 [==============================] - 0s 7ms/step - loss: 0.3488 - accuracy: 0.8333 - val_loss: 0.3823 - val_accuracy: 0.9048\n",
            "Epoch 8/100\n",
            "17/17 [==============================] - 0s 7ms/step - loss: 0.3867 - accuracy: 0.8095 - val_loss: 0.4329 - val_accuracy: 0.6667\n",
            "Epoch 9/100\n",
            "17/17 [==============================] - 0s 8ms/step - loss: 0.3626 - accuracy: 0.8690 - val_loss: 0.3877 - val_accuracy: 0.8571\n",
            "Epoch 10/100\n",
            "17/17 [==============================] - 0s 8ms/step - loss: 0.3697 - accuracy: 0.8214 - val_loss: 0.3793 - val_accuracy: 0.8095\n",
            "Epoch 11/100\n",
            "17/17 [==============================] - 0s 8ms/step - loss: 0.3933 - accuracy: 0.8095 - val_loss: 0.3987 - val_accuracy: 0.7619\n",
            "Epoch 12/100\n",
            "17/17 [==============================] - 0s 8ms/step - loss: 0.3651 - accuracy: 0.8333 - val_loss: 0.4498 - val_accuracy: 0.6667\n",
            "Epoch 13/100\n",
            "17/17 [==============================] - 0s 6ms/step - loss: 0.3951 - accuracy: 0.8095 - val_loss: 0.3956 - val_accuracy: 0.7619\n",
            "Epoch 14/100\n",
            "17/17 [==============================] - 0s 5ms/step - loss: 0.4193 - accuracy: 0.7738 - val_loss: 0.3745 - val_accuracy: 0.8095\n",
            "Epoch 15/100\n",
            "17/17 [==============================] - 0s 5ms/step - loss: 0.3804 - accuracy: 0.8095 - val_loss: 0.4280 - val_accuracy: 0.7143\n",
            "Epoch 16/100\n",
            "17/17 [==============================] - 0s 5ms/step - loss: 0.3560 - accuracy: 0.8095 - val_loss: 0.3745 - val_accuracy: 0.8571\n",
            "Epoch 17/100\n",
            "17/17 [==============================] - 0s 5ms/step - loss: 0.3659 - accuracy: 0.8333 - val_loss: 0.3910 - val_accuracy: 0.8571\n",
            "Epoch 18/100\n",
            "17/17 [==============================] - 0s 5ms/step - loss: 0.3579 - accuracy: 0.8333 - val_loss: 0.3997 - val_accuracy: 0.7619\n",
            "Epoch 19/100\n",
            "17/17 [==============================] - 0s 5ms/step - loss: 0.3450 - accuracy: 0.8333 - val_loss: 0.4068 - val_accuracy: 0.7619\n",
            "Epoch 20/100\n",
            "17/17 [==============================] - 0s 5ms/step - loss: 0.3524 - accuracy: 0.8333 - val_loss: 0.4162 - val_accuracy: 0.7143\n",
            "Epoch 21/100\n",
            "17/17 [==============================] - 0s 5ms/step - loss: 0.3468 - accuracy: 0.8333 - val_loss: 0.3750 - val_accuracy: 0.8095\n",
            "Epoch 22/100\n",
            "17/17 [==============================] - 0s 6ms/step - loss: 0.3685 - accuracy: 0.8095 - val_loss: 0.3674 - val_accuracy: 0.8095\n",
            "Epoch 23/100\n",
            "17/17 [==============================] - 0s 5ms/step - loss: 0.3411 - accuracy: 0.8571 - val_loss: 0.3935 - val_accuracy: 0.7619\n",
            "Epoch 24/100\n",
            "17/17 [==============================] - 0s 5ms/step - loss: 0.3413 - accuracy: 0.8452 - val_loss: 0.3965 - val_accuracy: 0.7619\n",
            "Epoch 25/100\n",
            "17/17 [==============================] - 0s 5ms/step - loss: 0.3400 - accuracy: 0.8452 - val_loss: 0.3706 - val_accuracy: 0.8571\n",
            "Epoch 26/100\n",
            "17/17 [==============================] - 0s 5ms/step - loss: 0.3466 - accuracy: 0.8571 - val_loss: 0.3786 - val_accuracy: 0.8095\n",
            "Epoch 27/100\n",
            "17/17 [==============================] - 0s 5ms/step - loss: 0.3378 - accuracy: 0.8333 - val_loss: 0.3894 - val_accuracy: 0.7619\n",
            "Epoch 28/100\n",
            "17/17 [==============================] - 0s 5ms/step - loss: 0.3438 - accuracy: 0.8214 - val_loss: 0.3650 - val_accuracy: 0.8571\n",
            "Epoch 29/100\n",
            "17/17 [==============================] - 0s 5ms/step - loss: 0.3413 - accuracy: 0.8452 - val_loss: 0.3685 - val_accuracy: 0.9048\n",
            "Epoch 30/100\n",
            "17/17 [==============================] - 0s 5ms/step - loss: 0.3467 - accuracy: 0.8214 - val_loss: 0.3725 - val_accuracy: 0.9048\n",
            "Epoch 31/100\n",
            "17/17 [==============================] - 0s 5ms/step - loss: 0.3617 - accuracy: 0.8095 - val_loss: 0.3820 - val_accuracy: 0.7619\n",
            "Epoch 32/100\n",
            "17/17 [==============================] - 0s 4ms/step - loss: 0.3465 - accuracy: 0.8333 - val_loss: 0.3915 - val_accuracy: 0.7619\n",
            "Epoch 33/100\n",
            "17/17 [==============================] - 0s 5ms/step - loss: 0.4357 - accuracy: 0.7738 - val_loss: 0.3930 - val_accuracy: 0.8095\n",
            "Epoch 34/100\n",
            "17/17 [==============================] - 0s 5ms/step - loss: 0.3375 - accuracy: 0.8571 - val_loss: 0.4702 - val_accuracy: 0.6190\n",
            "Epoch 35/100\n",
            "17/17 [==============================] - 0s 5ms/step - loss: 0.3292 - accuracy: 0.8333 - val_loss: 0.3674 - val_accuracy: 0.8095\n",
            "Epoch 36/100\n",
            "17/17 [==============================] - 0s 5ms/step - loss: 0.3491 - accuracy: 0.8452 - val_loss: 0.4009 - val_accuracy: 0.7143\n",
            "Epoch 37/100\n",
            "17/17 [==============================] - 0s 5ms/step - loss: 0.3327 - accuracy: 0.8333 - val_loss: 0.3736 - val_accuracy: 0.8095\n",
            "Epoch 38/100\n",
            "17/17 [==============================] - 0s 5ms/step - loss: 0.3447 - accuracy: 0.8571 - val_loss: 0.3553 - val_accuracy: 0.9048\n",
            "Epoch 39/100\n",
            "17/17 [==============================] - 0s 5ms/step - loss: 0.3421 - accuracy: 0.8333 - val_loss: 0.3756 - val_accuracy: 0.7619\n",
            "Epoch 40/100\n",
            "17/17 [==============================] - 0s 5ms/step - loss: 0.3378 - accuracy: 0.8214 - val_loss: 0.3778 - val_accuracy: 0.8571\n",
            "Epoch 41/100\n",
            "17/17 [==============================] - 0s 6ms/step - loss: 0.3361 - accuracy: 0.8095 - val_loss: 0.3800 - val_accuracy: 0.7143\n",
            "Epoch 42/100\n",
            "17/17 [==============================] - 0s 5ms/step - loss: 0.3334 - accuracy: 0.8452 - val_loss: 0.3867 - val_accuracy: 0.7619\n",
            "Epoch 43/100\n",
            "17/17 [==============================] - 0s 5ms/step - loss: 0.3613 - accuracy: 0.8095 - val_loss: 0.3550 - val_accuracy: 0.8571\n",
            "Epoch 44/100\n",
            "17/17 [==============================] - 0s 5ms/step - loss: 0.3216 - accuracy: 0.8452 - val_loss: 0.3715 - val_accuracy: 0.7619\n",
            "Epoch 45/100\n",
            "17/17 [==============================] - 0s 6ms/step - loss: 0.3266 - accuracy: 0.8214 - val_loss: 0.4026 - val_accuracy: 0.8571\n",
            "Epoch 46/100\n",
            "17/17 [==============================] - 0s 6ms/step - loss: 0.3583 - accuracy: 0.7976 - val_loss: 0.3555 - val_accuracy: 0.9048\n",
            "Epoch 47/100\n",
            "17/17 [==============================] - 0s 5ms/step - loss: 0.3584 - accuracy: 0.8333 - val_loss: 0.3814 - val_accuracy: 0.7619\n",
            "Epoch 48/100\n",
            "17/17 [==============================] - 0s 5ms/step - loss: 0.3248 - accuracy: 0.8690 - val_loss: 0.3753 - val_accuracy: 0.7619\n",
            "Epoch 49/100\n",
            "17/17 [==============================] - 0s 4ms/step - loss: 0.3431 - accuracy: 0.8452 - val_loss: 0.3565 - val_accuracy: 0.8571\n",
            "Epoch 50/100\n",
            "17/17 [==============================] - 0s 5ms/step - loss: 0.3269 - accuracy: 0.8333 - val_loss: 0.3727 - val_accuracy: 0.8095\n",
            "Epoch 51/100\n",
            "17/17 [==============================] - 0s 4ms/step - loss: 0.3233 - accuracy: 0.8333 - val_loss: 0.3570 - val_accuracy: 0.8095\n",
            "Epoch 52/100\n",
            "17/17 [==============================] - 0s 6ms/step - loss: 0.3800 - accuracy: 0.8214 - val_loss: 0.5245 - val_accuracy: 0.6667\n",
            "Epoch 53/100\n",
            "17/17 [==============================] - 0s 5ms/step - loss: 0.3389 - accuracy: 0.8333 - val_loss: 0.3490 - val_accuracy: 0.9048\n",
            "Epoch 54/100\n",
            "17/17 [==============================] - 0s 5ms/step - loss: 0.3247 - accuracy: 0.8452 - val_loss: 0.3786 - val_accuracy: 0.7143\n",
            "Epoch 55/100\n",
            "17/17 [==============================] - 0s 6ms/step - loss: 0.3334 - accuracy: 0.8214 - val_loss: 0.3624 - val_accuracy: 0.8571\n",
            "Epoch 56/100\n",
            "17/17 [==============================] - 0s 6ms/step - loss: 0.3325 - accuracy: 0.8452 - val_loss: 0.4261 - val_accuracy: 0.6667\n",
            "Epoch 57/100\n",
            "17/17 [==============================] - 0s 6ms/step - loss: 0.3304 - accuracy: 0.8214 - val_loss: 0.3564 - val_accuracy: 0.8095\n",
            "Epoch 58/100\n",
            "17/17 [==============================] - 0s 5ms/step - loss: 0.3231 - accuracy: 0.8214 - val_loss: 0.3586 - val_accuracy: 0.8095\n",
            "Epoch 59/100\n",
            "17/17 [==============================] - 0s 5ms/step - loss: 0.3251 - accuracy: 0.8571 - val_loss: 0.3555 - val_accuracy: 0.8571\n",
            "Epoch 60/100\n",
            "17/17 [==============================] - 0s 5ms/step - loss: 0.3489 - accuracy: 0.8333 - val_loss: 0.3549 - val_accuracy: 0.8571\n",
            "Epoch 61/100\n",
            "17/17 [==============================] - 0s 5ms/step - loss: 0.3616 - accuracy: 0.8333 - val_loss: 0.4646 - val_accuracy: 0.6190\n",
            "Epoch 62/100\n",
            "17/17 [==============================] - 0s 5ms/step - loss: 0.3353 - accuracy: 0.8095 - val_loss: 0.3642 - val_accuracy: 0.8095\n",
            "Epoch 63/100\n",
            "17/17 [==============================] - 0s 5ms/step - loss: 0.3358 - accuracy: 0.7976 - val_loss: 0.3455 - val_accuracy: 0.8571\n",
            "Epoch 64/100\n",
            "17/17 [==============================] - 0s 4ms/step - loss: 0.3554 - accuracy: 0.8095 - val_loss: 0.4403 - val_accuracy: 0.6667\n",
            "Epoch 65/100\n",
            "17/17 [==============================] - 0s 5ms/step - loss: 0.3763 - accuracy: 0.8214 - val_loss: 0.3839 - val_accuracy: 0.7143\n",
            "Epoch 66/100\n",
            "17/17 [==============================] - 0s 5ms/step - loss: 0.3374 - accuracy: 0.8333 - val_loss: 0.3456 - val_accuracy: 0.8571\n",
            "Epoch 67/100\n",
            "17/17 [==============================] - 0s 5ms/step - loss: 0.3256 - accuracy: 0.8214 - val_loss: 0.3751 - val_accuracy: 0.7619\n",
            "Epoch 68/100\n",
            "17/17 [==============================] - 0s 4ms/step - loss: 0.3196 - accuracy: 0.8214 - val_loss: 0.3493 - val_accuracy: 0.8571\n",
            "Epoch 69/100\n",
            "17/17 [==============================] - 0s 5ms/step - loss: 0.3248 - accuracy: 0.8333 - val_loss: 0.3582 - val_accuracy: 0.8571\n",
            "Epoch 70/100\n",
            "17/17 [==============================] - 0s 5ms/step - loss: 0.3115 - accuracy: 0.8214 - val_loss: 0.3913 - val_accuracy: 0.7143\n",
            "Epoch 71/100\n",
            "17/17 [==============================] - 0s 5ms/step - loss: 0.3381 - accuracy: 0.8690 - val_loss: 0.3478 - val_accuracy: 0.8095\n",
            "Epoch 72/100\n",
            "17/17 [==============================] - 0s 5ms/step - loss: 0.3431 - accuracy: 0.8095 - val_loss: 0.3646 - val_accuracy: 0.8571\n",
            "Epoch 73/100\n",
            "17/17 [==============================] - 0s 5ms/step - loss: 0.3325 - accuracy: 0.8095 - val_loss: 0.3887 - val_accuracy: 0.7143\n",
            "Epoch 74/100\n",
            "17/17 [==============================] - 0s 5ms/step - loss: 0.3224 - accuracy: 0.8452 - val_loss: 0.3590 - val_accuracy: 0.8095\n",
            "Epoch 75/100\n",
            "17/17 [==============================] - 0s 4ms/step - loss: 0.3287 - accuracy: 0.8214 - val_loss: 0.3440 - val_accuracy: 0.9048\n",
            "Epoch 76/100\n",
            "17/17 [==============================] - 0s 4ms/step - loss: 0.3191 - accuracy: 0.8095 - val_loss: 0.3459 - val_accuracy: 0.8571\n",
            "Epoch 77/100\n",
            "17/17 [==============================] - 0s 4ms/step - loss: 0.3079 - accuracy: 0.8214 - val_loss: 0.4410 - val_accuracy: 0.6667\n",
            "Epoch 78/100\n",
            "17/17 [==============================] - 0s 5ms/step - loss: 0.3479 - accuracy: 0.8452 - val_loss: 0.3384 - val_accuracy: 0.8571\n",
            "Epoch 79/100\n",
            "17/17 [==============================] - 0s 5ms/step - loss: 0.3254 - accuracy: 0.8452 - val_loss: 0.3783 - val_accuracy: 0.7143\n",
            "Epoch 80/100\n",
            "17/17 [==============================] - 0s 5ms/step - loss: 0.3180 - accuracy: 0.8333 - val_loss: 0.3513 - val_accuracy: 0.8571\n",
            "Epoch 81/100\n",
            "17/17 [==============================] - 0s 5ms/step - loss: 0.3447 - accuracy: 0.8214 - val_loss: 0.3855 - val_accuracy: 0.7143\n",
            "Epoch 82/100\n",
            "17/17 [==============================] - 0s 5ms/step - loss: 0.3249 - accuracy: 0.8214 - val_loss: 0.3500 - val_accuracy: 0.8571\n",
            "Epoch 83/100\n",
            "17/17 [==============================] - 0s 5ms/step - loss: 0.3263 - accuracy: 0.8214 - val_loss: 0.4080 - val_accuracy: 0.7143\n",
            "Epoch 84/100\n",
            "17/17 [==============================] - 0s 6ms/step - loss: 0.3272 - accuracy: 0.8333 - val_loss: 0.3320 - val_accuracy: 0.9048\n",
            "Epoch 85/100\n",
            "17/17 [==============================] - 0s 5ms/step - loss: 0.3290 - accuracy: 0.8333 - val_loss: 0.3603 - val_accuracy: 0.8571\n",
            "Epoch 86/100\n",
            "17/17 [==============================] - 0s 5ms/step - loss: 0.3293 - accuracy: 0.8571 - val_loss: 0.3500 - val_accuracy: 0.9048\n",
            "Epoch 87/100\n",
            "17/17 [==============================] - 0s 5ms/step - loss: 0.3137 - accuracy: 0.8571 - val_loss: 0.3666 - val_accuracy: 0.8571\n",
            "Epoch 88/100\n",
            "17/17 [==============================] - 0s 5ms/step - loss: 0.3168 - accuracy: 0.8452 - val_loss: 0.3575 - val_accuracy: 0.7619\n",
            "Epoch 89/100\n",
            "17/17 [==============================] - 0s 5ms/step - loss: 0.3544 - accuracy: 0.8214 - val_loss: 0.4422 - val_accuracy: 0.7143\n",
            "Epoch 90/100\n",
            "17/17 [==============================] - 0s 5ms/step - loss: 0.3556 - accuracy: 0.7857 - val_loss: 0.3350 - val_accuracy: 0.9048\n",
            "Epoch 91/100\n",
            "17/17 [==============================] - 0s 5ms/step - loss: 0.3232 - accuracy: 0.8452 - val_loss: 0.3389 - val_accuracy: 0.9048\n",
            "Epoch 92/100\n",
            "17/17 [==============================] - 0s 5ms/step - loss: 0.3352 - accuracy: 0.8452 - val_loss: 0.3708 - val_accuracy: 0.7143\n",
            "Epoch 93/100\n",
            "17/17 [==============================] - 0s 5ms/step - loss: 0.3456 - accuracy: 0.8095 - val_loss: 0.3861 - val_accuracy: 0.7143\n",
            "Epoch 94/100\n",
            "17/17 [==============================] - 0s 4ms/step - loss: 0.3255 - accuracy: 0.7738 - val_loss: 0.3261 - val_accuracy: 0.9048\n",
            "Epoch 95/100\n",
            "17/17 [==============================] - 0s 5ms/step - loss: 0.3567 - accuracy: 0.8214 - val_loss: 0.4080 - val_accuracy: 0.6667\n",
            "Epoch 96/100\n",
            "17/17 [==============================] - 0s 5ms/step - loss: 0.3282 - accuracy: 0.8214 - val_loss: 0.3608 - val_accuracy: 0.7143\n",
            "Epoch 97/100\n",
            "17/17 [==============================] - 0s 5ms/step - loss: 0.3039 - accuracy: 0.8214 - val_loss: 0.3345 - val_accuracy: 0.9048\n",
            "Epoch 98/100\n",
            "17/17 [==============================] - 0s 5ms/step - loss: 0.3025 - accuracy: 0.8452 - val_loss: 0.3547 - val_accuracy: 0.8095\n",
            "Epoch 99/100\n",
            "17/17 [==============================] - 0s 5ms/step - loss: 0.3061 - accuracy: 0.8214 - val_loss: 0.3332 - val_accuracy: 0.9048\n",
            "Epoch 100/100\n",
            "17/17 [==============================] - 0s 5ms/step - loss: 0.3062 - accuracy: 0.8214 - val_loss: 0.3399 - val_accuracy: 0.9048\n"
          ]
        },
        {
          "output_type": "execute_result",
          "data": {
            "text/plain": [
              "<keras.src.callbacks.History at 0x787c68059420>"
            ]
          },
          "metadata": {},
          "execution_count": 36
        }
      ]
    },
    {
      "cell_type": "code",
      "source": [
        "# Evaluate the model\n",
        "loss, accuracy = model.evaluate(x_test, y_test)\n",
        "print(f'Test Accuracy: {accuracy}')"
      ],
      "metadata": {
        "colab": {
          "base_uri": "https://localhost:8080/"
        },
        "id": "I2f58fN88fAy",
        "outputId": "624d11e8-94aa-473b-865c-477960f31c76"
      },
      "execution_count": 37,
      "outputs": [
        {
          "output_type": "stream",
          "name": "stdout",
          "text": [
            "1/1 [==============================] - 0s 25ms/step - loss: 0.3399 - accuracy: 0.9048\n",
            "Test Accuracy: 0.9047619104385376\n"
          ]
        }
      ]
    }
  ]
}